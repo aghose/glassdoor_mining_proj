{
 "cells": [
  {
   "cell_type": "code",
   "execution_count": 10,
   "metadata": {},
   "outputs": [
    {
     "ename": "SyntaxError",
     "evalue": "EOF while scanning triple-quoted string literal (<ipython-input-10-cb2816cc0f5f>, line 3)",
     "output_type": "error",
     "traceback": [
      "\u001b[1;36m  File \u001b[1;32m\"<ipython-input-10-cb2816cc0f5f>\"\u001b[1;36m, line \u001b[1;32m3\u001b[0m\n\u001b[1;33m    Created on Wed Sep 30 16:27:22 2020\u001b[0m\n\u001b[1;37m                                       \n^\u001b[0m\n\u001b[1;31mSyntaxError\u001b[0m\u001b[1;31m:\u001b[0m EOF while scanning triple-quoted string literal\n"
     ]
    }
   ],
   "source": [
    "# -*- coding: utf-8 -*-\n",
    "\"\"\"\n",
    "Created on Wed Sep 30 16:27:22 2020"
   ]
  },
  {
   "cell_type": "code",
   "execution_count": null,
   "metadata": {},
   "outputs": [],
   "source": [
    "@author: Akash Ghose\n",
    "\"\"\""
   ]
  },
  {
   "cell_type": "code",
   "execution_count": null,
   "metadata": {},
   "outputs": [],
   "source": [
    "import pandas as pd\n",
    "from sklearn.preprocessing import LabelEncoder\n",
    "import random\n",
    "#import numpy as np"
   ]
  },
  {
   "cell_type": "markdown",
   "metadata": {},
   "source": [
    "ata = pd.read_csv('uncleaned_data.csv')"
   ]
  },
  {
   "cell_type": "code",
   "execution_count": null,
   "metadata": {},
   "outputs": [],
   "source": []
  },
  {
   "cell_type": "code",
   "execution_count": null,
   "metadata": {},
   "outputs": [],
   "source": [
    "def simplify_job_title(title):\n",
    "    if all(x in title.lower() for x in ['data', 'scientist']):\n",
    "        return 'Data Scientist'\n",
    "    elif (all(x in title.lower() for x in ['research', 'scientist']) or\n",
    "          all(x in title.lower() for x in ['r&d', 'scientist'])):\n",
    "        return 'Research Scientist'\n",
    "    elif (all(x in title.lower() for x in ['data', 'analyst']) or\n",
    "          all(x in title.lower() for x in ['data', 'analytics'])):\n",
    "        return 'Data Analyst'\n",
    "    elif (all(x in title.lower() for x in ['research', 'analyst']) or\n",
    "          all(x in title.lower() for x in ['r&d', 'analyst'])):\n",
    "        return 'Research Analyst'\n",
    "    elif all(x in title.lower() for x in ['data', 'engineer']):\n",
    "        return 'Data Engineer'\n",
    "    elif all(x in title.lower() for x in ['machine', 'learning']):\n",
    "        return 'Machine Learning Engineer'\n",
    "    elif 'scientist' in title.lower():\n",
    "        return 'Other Scientist'\n",
    "    elif 'analyst' in title.lower():\n",
    "        return 'Other Analyst'\n",
    "    elif ('instructor' in title.lower()):\n",
    "        return 'Instructor'\n",
    "    else: return 'Other'\n",
    "    \n",
    "def find_seniority(title):\n",
    "    if any(x in title.lower() for x in ['sr', 'senior', 'manager', '3', \n",
    "                                        'lead', 'principal', ' iii']):\n",
    "        return 'Senior'\n",
    "    elif any(x in title.lower() for x in['mid', 'ii', '2']):\n",
    "        return 'Mid-level'\n",
    "    elif any(x in title.lower() for x in ['jr', 'junior', ' i ', '1', 'associate', 'entry']):\n",
    "        return 'Junior'\n",
    "    else:\n",
    "        return 'na'\n",
    "    \n",
    "def convert_revenue(revenue):\n",
    "    if revenue=='Unknown / Non-Applicable':\n",
    "        return 0\n",
    "    elif revenue=='Less than $1 million (USD)':\n",
    "        return 1\n",
    "    elif revenue=='$1 to $5 million (USD)':\n",
    "        return 2\n",
    "    elif revenue=='$5 to $10 million (USD)':\n",
    "        return 3\n",
    "    elif revenue=='$10 to $25 million (USD)':\n",
    "        return 4\n",
    "    elif revenue=='$25 to $50 million (USD)':\n",
    "        return 5\n",
    "    elif revenue=='$50 to $100 million (USD)':\n",
    "        return 6\n",
    "    elif revenue=='$100 to $500 million (USD)':\n",
    "        return 7\n",
    "    elif revenue=='$500 million to $1 billion (USD)':\n",
    "        return 8\n",
    "    elif revenue=='$1 to $2 billion (USD)':\n",
    "        return 9\n",
    "    elif revenue=='$2 to $5 billion (USD)':\n",
    "        return 10\n",
    "    elif revenue=='$5 to $10 billion (USD)':\n",
    "        return 11\n",
    "    elif revenue=='$10+ billion (USD)':\n",
    "        return 12\n",
    "    else: return 0\n",
    "    \n",
    "def convert_revenue_no_unknown(revenue):\n",
    "    if revenue=='Unknown / Non-Applicable':\n",
    "        return random.randint(1,12)\n",
    "    elif revenue=='Less than $1 million (USD)':\n",
    "        return 1\n",
    "    elif revenue=='$1 to $5 million (USD)':\n",
    "        return 2\n",
    "    elif revenue=='$5 to $10 million (USD)':\n",
    "        return 3\n",
    "    elif revenue=='$10 to $25 million (USD)':\n",
    "        return 4\n",
    "    elif revenue=='$25 to $50 million (USD)':\n",
    "        return 5\n",
    "    elif revenue=='$50 to $100 million (USD)':\n",
    "        return 6\n",
    "    elif revenue=='$100 to $500 million (USD)':\n",
    "        return 7\n",
    "    elif revenue=='$500 million to $1 billion (USD)':\n",
    "        return 8\n",
    "    elif revenue=='$1 to $2 billion (USD)':\n",
    "        return 9\n",
    "    elif revenue=='$2 to $5 billion (USD)':\n",
    "        return 10\n",
    "    elif revenue=='$5 to $10 billion (USD)':\n",
    "        return 11\n",
    "    elif revenue=='$10+ billion (USD)':\n",
    "        return 12\n",
    "    else: return 0"
   ]
  },
  {
   "cell_type": "code",
   "execution_count": null,
   "metadata": {},
   "outputs": [],
   "source": [
    "def convert_size(size):\n",
    "    if size=='Unknown':\n",
    "        return 0\n",
    "    elif size=='1 to 50 Employees':\n",
    "        return 1\n",
    "    elif size=='51 to 200 Employees':\n",
    "        return 2\n",
    "    elif size=='201 to 500 Employees':\n",
    "        return 3\n",
    "    elif size=='501 to 1000 Employees':\n",
    "        return 4\n",
    "    elif size=='1001 to 5000 Employees':\n",
    "        return 5\n",
    "    elif size=='5001 to 10000 Employees':\n",
    "        return 6\n",
    "    elif size=='10000+ Employees':\n",
    "        return 7\n",
    "    else: return 0\n",
    "    \n",
    "def convert_size_no_unknown(size):\n",
    "    if size=='Unknown':\n",
    "        return random.randint(1,7)\n",
    "    elif size=='1 to 50 Employees':\n",
    "        return 1\n",
    "    elif size=='51 to 200 Employees':\n",
    "        return 2\n",
    "    elif size=='201 to 500 Employees':\n",
    "        return 3\n",
    "    elif size=='501 to 1000 Employees':\n",
    "        return 4\n",
    "    elif size=='1001 to 5000 Employees':\n",
    "        return 5\n",
    "    elif size=='5001 to 10000 Employees':\n",
    "        return 6\n",
    "    elif size=='10000+ Employees':\n",
    "        return 7\n",
    "    else: return 0"
   ]
  },
  {
   "cell_type": "code",
   "execution_count": null,
   "metadata": {},
   "outputs": [],
   "source": [
    "def convert_size_no_unknown(size):\n",
    "    if size=='Unknown':\n",
    "        return random.randint(1,7)\n",
    "    elif size=='1 to 50 Employees':\n",
    "        return 1\n",
    "    elif size=='51 to 200 Employees':\n",
    "        return 2\n",
    "    elif size=='201 to 500 Employees':\n",
    "        return 3\n",
    "    elif size=='501 to 1000 Employees':\n",
    "        return 4\n",
    "    elif size=='1001 to 5000 Employees':\n",
    "        return 5\n",
    "    elif size=='5001 to 10000 Employees':\n",
    "        return 6\n",
    "    elif size=='10000+ Employees':\n",
    "        return 7\n",
    "    else: return 0"
   ]
  },
  {
   "cell_type": "code",
   "execution_count": 12,
   "metadata": {},
   "outputs": [],
   "source": [
    "#Setting console display options\n",
    "pd.set_option('display.max_rows', None)\n",
    "pd.set_option('display.max_columns', None)\n",
    "pd.set_option('display.width', None)\n",
    "pd.set_option('display.max_colwidth', None)"
   ]
  },
  {
   "cell_type": "code",
   "execution_count": 13,
   "metadata": {},
   "outputs": [],
   "source": [
    "data = pd.read_csv('uncleaned_data.csv')"
   ]
  },
  {
   "cell_type": "code",
   "execution_count": 14,
   "metadata": {},
   "outputs": [],
   "source": [
    "df = data.drop('Headquarters',1)\n",
    "df = df.drop('Competitors', 1)\n",
    "    \n",
    "#Drops rows with which have Job Description as -1\n",
    "df = df[df['Job Description'] != '-1']\n",
    "      \n",
    "\"Salary Parsing\"\n",
    "    \n",
    "df_missing_salary = df[df['Salary Estimate'] == '-1']\n",
    "df = df[df['Salary Estimate'] != '-1']\n",
    "#Drops \"(Glassdoor estimate)\"\n",
    "salary = df[\"Salary Estimate\"].apply(lambda x: x.lower().split('(')[0])\n",
    "#Drops \"K\" and \"$\"\n",
    "salary = salary.apply(lambda x: x.replace(\"k\",\"\").replace(\"$\",\"\"))\n",
    "#Drop \"per hour\" and \"employer provided\"\n",
    "salary = salary.apply(lambda x: \n",
    "                      x.replace('per hour', '').\n",
    "                      replace('employer provided salary:',''))    \n",
    " \n",
    "#appends 'per hour' and 'employer provided salary:' as features\n",
    "df['hourly'] = df['Salary Estimate'].apply(\n",
    "    lambda x: 1 if 'per hour' in x.lower() else 0)\n",
    "df['employer_provided_salary'] = df['Salary Estimate'].apply(\n",
    "    lambda x: 1 if 'employer provided salary:' in x.lower() else 0)\n",
    "#Gets min\n",
    "df[\"min_salary\"] = salary.apply(lambda x: int((x.split('-')[0])))\n",
    "#Gets max\n",
    "df['max_salary'] = salary.apply(lambda x: int(x.split('-')[1]))\n",
    "#Gets avg\n",
    "df['avg_salary'] = (df.min_salary + df.max_salary)/2 \n",
    "#convert hourly to yearly salary\n",
    "df['min_salary'] = df.apply(lambda x: x.min_salary if x.hourly==0 else x.min_salary*2, axis=1)\n",
    "df['max_salary'] = df.apply(lambda x: x.max_salary if x.hourly==0 else x.max_salary*2, axis=1)\n",
    "df['avg_salary'] = df.apply(lambda x: x.avg_salary if x.hourly==0 else x.avg_salary*2, axis=1)\n",
    "  \n",
    "\"Company Name Parsing\"\n",
    "\n",
    "#Drops the ratings attached to the end of the company names\n",
    "company_name = df.apply(\n",
    "    lambda x: x['Company Name'] if x.Rating <0 else \n",
    "    x['Company Name'][:-3], axis=1)\n",
    "df['Company Name'] = company_name\n",
    "\n",
    "\"State parsing\"\n",
    "   \n",
    "df['location_state'] = df.apply(lambda x: x.Location.split(',')[1],axis=1)\n",
    "df['location_state'] = df['location_state'].apply(\n",
    "    lambda x: ' CA' if 'los angeles' in x.lower() else x)    "
   ]
  },
  {
   "cell_type": "code",
   "execution_count": 16,
   "metadata": {},
   "outputs": [
    {
     "data": {
      "text/plain": [
       "Index(['Job Title', 'Salary Estimate', 'Job Description', 'Rating',\n",
       "       'Company Name', 'Location', 'Size', 'Founded', 'Type of ownership',\n",
       "       'Industry', 'Sector', 'Revenue', 'hourly', 'employer_provided_salary',\n",
       "       'min_salary', 'max_salary', 'avg_salary', 'location_state'],\n",
       "      dtype='object')"
      ]
     },
     "execution_count": 16,
     "metadata": {},
     "output_type": "execute_result"
    }
   ],
   "source": [
    "df.columns"
   ]
  },
  {
   "cell_type": "code",
   "execution_count": 17,
   "metadata": {},
   "outputs": [],
   "source": [
    "'Company age'\n",
    "current_year = 2020\n",
    "df['age'] = df.Founded.apply(lambda x: x if x <0 else current_year-x)\n",
    "    \n",
    "'Parse Job descrpition'\n",
    "   \n",
    "df['description_length'] = df['Job Description'].apply(lambda x: len(x))\n",
    "    \n",
    "df['contains_python'] = df['Job Description'].apply(\n",
    "    lambda x: 1 if 'python' in x.lower() else 0)\n",
    "df['contains_R'] =  df['Job Description'].apply(\n",
    "    lambda x: 1 if ' r ' in x.lower() or \n",
    "    'r-studio' in x.lower() or \n",
    "    'r studio' in x.lower() else 0)\n",
    "df['contains_big_data'] = df['Job Description'].apply(\n",
    "    lambda x: 1 if 'big data' in x.lower() or \n",
    "    'spark' in x.lower() or \n",
    "    'hadoop' in x.lower() else 0)\n",
    "df['contains_MS'] = df['Job Description'].apply(\n",
    "    lambda x: 1 if ' ms ' in x.lower() or \n",
    "    \"master's\" in x.lower() or\n",
    "    \"masters'\" in x.lower() or \n",
    "    \"masters\" in x.lower() or \n",
    "    'master' in x.lower() else 0)\n",
    "    \n",
    "\"Parsing Job Titles\"\n",
    "    \n",
    "#Will add a simplified job title column\n",
    "df['simplified_title'] = df['Job Title'].apply(simplify_job_title)\n",
    "    \n",
    "#This will parse job title for info about senority and add it as a column\n",
    "df['seniority'] = df['Job Title'].apply(find_seniority)\n",
    "    \n",
    "#Re-ordering columns for ease of readability\n",
    "df = df[['Job Title','simplified_title', 'seniority', 'Salary Estimate', \n",
    "         'min_salary', 'max_salary', 'avg_salary', 'hourly', \n",
    "         'employer_provided_salary', 'Job Description', 'description_length',\n",
    "         'contains_python', 'contains_R', 'contains_big_data', 'contains_MS',\n",
    "         'Rating','Company Name', 'Location', 'location_state', 'Size', 'Founded',\n",
    "         'age', 'Type of ownership', 'Industry', 'Sector', 'Revenue']]\n",
    "    \n",
    "    \n",
    "'Converting catagorical/object data to numeric'\n",
    "    \n",
    "#First I have to convert all the objects to catagorical data\n",
    "df = df.apply(lambda x: x.astype('category') if x.dtype=='object' else x)\n",
    "    \n",
    "#Convert revenue to numeric, in order\n",
    "df['revenue_num'] = df.Revenue.apply(convert_revenue_no_unknown).astype('int64')\n",
    "df['revenue_num_unknown']= df.Revenue.apply(convert_revenue).astype('int64')\n",
    "    \n",
    "#Convert size to numeric, in order\n",
    "df['size_num'] = df.Size.apply(convert_size_no_unknown).astype('int64')\n",
    "df['size_num_unknown']= df.Size.apply(convert_size).astype('int64')\n",
    "    \n",
    "#Convert all desired catagorical data to numeric\n",
    "# generate binary values using get_dummies\n",
    "dum_df = pd.get_dummies(df, columns=[\"simplified_title\", \n",
    "                                     'seniority','location_state',\n",
    "                                         'Type of ownership', 'Sector'])\n",
    "# merge with main df on key values\n",
    "df = df.merge(dum_df, how='left')"
   ]
  },
  {
   "cell_type": "code",
   "execution_count": 18,
   "metadata": {},
   "outputs": [
    {
     "data": {
      "text/plain": [
       "Index(['Job Title', 'simplified_title', 'seniority', 'Salary Estimate',\n",
       "       'min_salary', 'max_salary', 'avg_salary', 'hourly',\n",
       "       'employer_provided_salary', 'Job Description',\n",
       "       ...\n",
       "       'Sector_Manufacturing', 'Sector_Media', 'Sector_Mining & Metals',\n",
       "       'Sector_Non-Profit', 'Sector_Oil, Gas, Energy & Utilities',\n",
       "       'Sector_Real Estate', 'Sector_Retail', 'Sector_Telecommunications',\n",
       "       'Sector_Transportation & Logistics', 'Sector_Travel & Tourism'],\n",
       "      dtype='object', length=112)"
      ]
     },
     "execution_count": 18,
     "metadata": {},
     "output_type": "execute_result"
    }
   ],
   "source": [
    "df.columns"
   ]
  },
  {
   "cell_type": "code",
   "execution_count": 23,
   "metadata": {},
   "outputs": [
    {
     "ename": "IndexError",
     "evalue": "only integers, slices (`:`), ellipsis (`...`), numpy.newaxis (`None`) and integer or boolean arrays are valid indices",
     "output_type": "error",
     "traceback": [
      "\u001b[1;31m---------------------------------------------------------------------------\u001b[0m",
      "\u001b[1;31mIndexError\u001b[0m                                Traceback (most recent call last)",
      "\u001b[1;32m<ipython-input-23-a1ff5a59c923>\u001b[0m in \u001b[0;36m<module>\u001b[1;34m\u001b[0m\n\u001b[0;32m      5\u001b[0m \u001b[0mpd\u001b[0m\u001b[1;33m.\u001b[0m\u001b[0mset_option\u001b[0m\u001b[1;33m(\u001b[0m\u001b[1;34m'display.max_colwidth'\u001b[0m\u001b[1;33m,\u001b[0m \u001b[1;32mNone\u001b[0m\u001b[1;33m)\u001b[0m\u001b[1;33m\u001b[0m\u001b[1;33m\u001b[0m\u001b[0m\n\u001b[0;32m      6\u001b[0m \u001b[1;32mfor\u001b[0m \u001b[0mi\u001b[0m \u001b[1;32min\u001b[0m \u001b[0mdf\u001b[0m\u001b[1;33m.\u001b[0m\u001b[0mcolumns\u001b[0m\u001b[1;33m:\u001b[0m\u001b[1;33m\u001b[0m\u001b[1;33m\u001b[0m\u001b[0m\n\u001b[1;32m----> 7\u001b[1;33m     \u001b[0mprint\u001b[0m \u001b[1;33m(\u001b[0m\u001b[0mdf\u001b[0m\u001b[1;33m.\u001b[0m\u001b[0mcolumns\u001b[0m\u001b[1;33m[\u001b[0m\u001b[0mi\u001b[0m\u001b[1;33m]\u001b[0m\u001b[1;33m)\u001b[0m\u001b[1;33m\u001b[0m\u001b[1;33m\u001b[0m\u001b[0m\n\u001b[0m",
      "\u001b[1;32m~\\anaconda3\\lib\\site-packages\\pandas\\core\\indexes\\base.py\u001b[0m in \u001b[0;36m__getitem__\u001b[1;34m(self, key)\u001b[0m\n\u001b[0;32m   4093\u001b[0m         \u001b[1;32mif\u001b[0m \u001b[0mis_scalar\u001b[0m\u001b[1;33m(\u001b[0m\u001b[0mkey\u001b[0m\u001b[1;33m)\u001b[0m\u001b[1;33m:\u001b[0m\u001b[1;33m\u001b[0m\u001b[1;33m\u001b[0m\u001b[0m\n\u001b[0;32m   4094\u001b[0m             \u001b[0mkey\u001b[0m \u001b[1;33m=\u001b[0m \u001b[0mcom\u001b[0m\u001b[1;33m.\u001b[0m\u001b[0mcast_scalar_indexer\u001b[0m\u001b[1;33m(\u001b[0m\u001b[0mkey\u001b[0m\u001b[1;33m,\u001b[0m \u001b[0mwarn_float\u001b[0m\u001b[1;33m=\u001b[0m\u001b[1;32mTrue\u001b[0m\u001b[1;33m)\u001b[0m\u001b[1;33m\u001b[0m\u001b[1;33m\u001b[0m\u001b[0m\n\u001b[1;32m-> 4095\u001b[1;33m             \u001b[1;32mreturn\u001b[0m \u001b[0mgetitem\u001b[0m\u001b[1;33m(\u001b[0m\u001b[0mkey\u001b[0m\u001b[1;33m)\u001b[0m\u001b[1;33m\u001b[0m\u001b[1;33m\u001b[0m\u001b[0m\n\u001b[0m\u001b[0;32m   4096\u001b[0m \u001b[1;33m\u001b[0m\u001b[0m\n\u001b[0;32m   4097\u001b[0m         \u001b[1;32mif\u001b[0m \u001b[0misinstance\u001b[0m\u001b[1;33m(\u001b[0m\u001b[0mkey\u001b[0m\u001b[1;33m,\u001b[0m \u001b[0mslice\u001b[0m\u001b[1;33m)\u001b[0m\u001b[1;33m:\u001b[0m\u001b[1;33m\u001b[0m\u001b[1;33m\u001b[0m\u001b[0m\n",
      "\u001b[1;31mIndexError\u001b[0m: only integers, slices (`:`), ellipsis (`...`), numpy.newaxis (`None`) and integer or boolean arrays are valid indices"
     ]
    }
   ],
   "source": [
    "#Setting console display options\n",
    "pd.set_option('display.max_rows', None)\n",
    "pd.set_option('display.max_columns', None)\n",
    "pd.set_option('display.width', None)\n",
    "pd.set_option('display.max_colwidth', None)\n",
    "df.columns.astype('array')\n",
    "for i in df.columns:\n",
    "    print(df.columns.astype('array')[i])\n"
   ]
  },
  {
   "cell_type": "code",
   "execution_count": null,
   "metadata": {},
   "outputs": [],
   "source": []
  }
 ],
 "metadata": {
  "kernelspec": {
   "display_name": "Python 3",
   "language": "python",
   "name": "python3"
  },
  "language_info": {
   "codemirror_mode": {
    "name": "ipython",
    "version": 3
   },
   "file_extension": ".py",
   "mimetype": "text/x-python",
   "name": "python",
   "nbconvert_exporter": "python",
   "pygments_lexer": "ipython3",
   "version": "3.8.5"
  }
 },
 "nbformat": 4,
 "nbformat_minor": 4
}
